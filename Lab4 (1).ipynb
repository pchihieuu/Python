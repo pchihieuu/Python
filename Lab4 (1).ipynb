{
  "nbformat": 4,
  "nbformat_minor": 0,
  "metadata": {
    "colab": {
      "provenance": []
    },
    "kernelspec": {
      "name": "python3",
      "display_name": "Python 3"
    },
    "language_info": {
      "name": "python"
    }
  },
  "cells": [
    {
      "cell_type": "code",
      "execution_count": 2,
      "metadata": {
        "colab": {
          "base_uri": "https://localhost:8080/"
        },
        "id": "f9vIGSjyHuVn",
        "outputId": "98aaba55-12e6-429d-d9d6-592d25996bab"
      },
      "outputs": [
        {
          "output_type": "stream",
          "name": "stdout",
          "text": [
            "Kết hợp các giá trị của hai danh sách đã nói vào một từ điển:  {'a': 1, 'b': 2, 'c': 3, 'd': 4, 'e': 5}\n"
          ]
        }
      ],
      "source": [
        "'''Bài tập 1. Viết chương trình Python để kết hợp hai danh sách vào một từ điển. Các phần tử của phần đầu tiên đóng vai trò là khóa và các phần tử của phần thứ hai đóng vai trò là giá trị. Mỗi mục trong danh sách đầu tiên phải là duy nhất và có thể băm được.\n",
        "Đầu ra mẫu:\n",
        "Danh sách gốc:\n",
        "['a', 'b', 'c', 'd', 'e', 'f']\n",
        "[1, 2, 3, 4, 5]\n",
        "Kết hợp các giá trị của hai danh sách đã nói vào một từ điển:\n",
        "{'a': 1, 'b': 2, 'c': 3, 'd': 4, 'e': 5}'''\n",
        "# Định nghĩa hàm kết hợp danh sách và một từ điển\n",
        "def combined_dict(keys, values):\n",
        "  #Sử dụng zip để kết hợp các phần từ\n",
        "  combine = dict(zip(keys, values))\n",
        "  # Trả về kết quả kết hợp của danh sách và từ điển\n",
        "  return combine\n",
        "# Kiểm tra xem các câu lệnh có chạy trong chương trình chính hay không?\n",
        "if __name__==\"__main__\":\n",
        "  # Khởi tạo khóa\n",
        "  keys = ['a', 'b', 'c', 'd', 'e', 'f']\n",
        "  # Khởi tạo giá trị\n",
        "  values = [1, 2, 3, 4, 5]\n",
        "  # In kết quả ra màn hình\n",
        "  print(\"Kết hợp các giá trị của hai danh sách đã nói vào một từ điển: \", combined_dict(keys, values))\n"
      ]
    },
    {
      "cell_type": "code",
      "source": [
        "'''Bài tập 2. Viết chương trình Python để chuyển đổi một từ điển thành một danh sách các bộ dữ liệu.\n",
        "Đầu ra mẫu:\n",
        "Từ điển gốc:\n",
        "{'Đỏ': 1, 'Xanh': 3, 'Trắng': 5, 'Đen': 2, 'Hồng': 4}\n",
        "Chuyển đổi từ điển đã nói thành danh sách các bộ dữ liệu:\n",
        "[('Đỏ', 1), ('Xanh', 3), ('Trắng', 5), ('Đen', 2), ('Hồng', 4)]'''\n",
        "def dict_to_list(input_dict):\n",
        "  # Sử dụng phương thức items() để lấy các cặp key-value từ dict\n",
        "   dict_items = input_dict.items()\n",
        "   #  Chuyển các cặp key-value thành danh sách các bộ dữ liệu(chuyển thành list)\n",
        "   list_of_tuple = list(dict_items)\n",
        "   # Trả về kết quả chứa keys và values riêng đã được tách ra\n",
        "   return list_of_tuple\n",
        "# Kiểm tra xem các câu lệnh có chạy trong chương trình chính hay không?\n",
        "if __name__==\"__main__\":\n",
        "  # Khởi tạo bộ dữ liệu để kiểm tra output\n",
        "  check_dict = {'Đỏ': 1, 'Xanh': 3, 'Trắng': 5, 'Đen': 2, 'Hồng': 4}\n",
        "  # In kết quả ra màn hình\n",
        "  print(\"Chuyển đổi từ điển đã nói thành danh sách các bộ dữ liệu::\",dict_to_list(check_dict))"
      ],
      "metadata": {
        "colab": {
          "base_uri": "https://localhost:8080/"
        },
        "id": "aM4qVeINJW3X",
        "outputId": "d9e4fe6b-671c-434f-e02a-499a0b238e9d"
      },
      "execution_count": 3,
      "outputs": [
        {
          "output_type": "stream",
          "name": "stdout",
          "text": [
            "Kết quả: [('Đỏ', 1), ('Xanh', 3), ('Trắng', 5), ('Đen', 2), ('Hồng', 4)]\n"
          ]
        }
      ]
    },
    {
      "cell_type": "code",
      "source": [
        "'''Bài tập 3. Viết chương trình Python để tạo một danh sách phẳng gồm tất cả các khóa trong một từ điển phẳng.\n",
        "Đầu ra mẫu:\n",
        "Các yếu tố từ điển gốc:\n",
        "{'Theodore': 19, 'Roxanne': 20, 'Mathew': 21, 'Betty': 20}\n",
        "Tạo một danh sách phẳng gồm tất cả các khóa của từ điển phẳng đã nói:\n",
        "['Theodore', 'Roxanne', 'Mathew', 'Betty']'''\n",
        "# Định nghĩa hàm tạo danh sách phắng gồm tất cả các khóa trong 1 từ điển phắng\n",
        "def list_to_values(input_list):\n",
        "  # Sử dụng phương thức keys() để lấy tất cả các khóa từ dict\n",
        "  original = input_list.keys()\n",
        "  # Chuyển khóa từ điển thành danh sách phẳng\n",
        "  list_of_dict_values = list(original)\n",
        "  # Trả về từ khóa thuộc 1 dict\n",
        "  return list_of_dict_values\n",
        "# Kiểm tra xem các câu lệnh có chạy trong chương trình chính hay không?\n",
        "if __name__==\"__main__\":\n",
        "   # Khởi tạo bộ dữ liệu để kiểm tra output\n",
        "  roll_data = {'Theodore': 19, 'Roxanne': 20, 'Mathew': 21, 'Betty': 20}\n",
        "  # In kết quả\n",
        "  print(\"Tạo một danh sách phẳng gồm tất cả các khóa của từ điển phẳng đã nói:\",list_to_values(roll_data))"
      ],
      "metadata": {
        "colab": {
          "base_uri": "https://localhost:8080/"
        },
        "id": "uPCQhzYiLBLc",
        "outputId": "22d22c18-c385-4221-92a1-734e41ba3f10"
      },
      "execution_count": 4,
      "outputs": [
        {
          "output_type": "stream",
          "name": "stdout",
          "text": [
            "Tạo một danh sách phẳng gồm tất cả các khóa của từ điển phẳng đã nói: ['Theodore', 'Roxanne', 'Mathew', 'Betty']\n"
          ]
        }
      ]
    },
    {
      "cell_type": "code",
      "source": [
        "'''Ex 1. Sắp xếp từ điển theo khóa và loại kết quả sẽ là từ điển.\n",
        "Input:\n",
        "{'ravi': 10, 'rajnish': 9, 'sanjeev': 15, 'yash': 2, 'suraj': 32}\n",
        "\n",
        "Output:\n",
        "{'rajnish': 9, 'ravi': 10, 'sanjeev': 15, 'suraj': 32, 'yash': 2}'''\n",
        "#  Định nghĩa hàm sắp xếp từ điển theo khóa\n",
        "def sort_dict_by_key(input_dict):\n",
        "    # Sắp xếp từ điển dựa trên khóa và tạo một danh sách các bộ dữ liệu (tuples)\n",
        "    sorted_items = sorted(input_dict.items())\n",
        "    # Chuyển danh sách các bộ dữ liệu thành một dictionary mới\n",
        "    sorted_dict = dict(sorted_items)\n",
        "    # Trả về kết quả dict mới sau khi sắp xếp\n",
        "    return sorted_dict\n",
        "\n",
        "# Khởi tạo một từ điển ban đầu\n",
        "original_dict = {'ravi': 10, 'rajnish': 9, 'sanjeev': 15, 'yash': 2, 'suraj': 32}\n",
        "\n",
        "# Gọi hàm sắp xếp từ điển\n",
        "result_dict = sort_dict_by_key(original_dict)\n",
        "\n",
        "# In từ điển đã sắp xếp\n",
        "print(\"Từ điển sau khi sắp xếp theo khóa:\", result_dict)\n",
        "\n"
      ],
      "metadata": {
        "colab": {
          "base_uri": "https://localhost:8080/"
        },
        "id": "xV4s6qYlOQKL",
        "outputId": "e1b4c58e-6493-4d95-b92d-d1816a074103"
      },
      "execution_count": 9,
      "outputs": [
        {
          "output_type": "stream",
          "name": "stdout",
          "text": [
            "Từ điển sau khi sắp xếp theo khóa: {'rajnish': 9, 'ravi': 10, 'sanjeev': 15, 'suraj': 32, 'yash': 2}\n"
          ]
        }
      ]
    },
    {
      "cell_type": "code",
      "source": [
        "'''Bài 2. Sắp xếp từ điển theo khóa và giá trị trong Python. Ở đây, iterkeys() trả về một trình vòng lặp trên các khóa của từ điển.'''\n",
        "# Tạo bộ dữ liệu của đề\n",
        "key_value = {\n",
        "    '[2]': '56',\n",
        "    '[1]': '1',\n",
        "    '[4]': '12',\n",
        "    '[5]': '24',\n",
        "    '[6]': '18',\n",
        "    '[3]': '323'\n",
        "}\n",
        "# Sắp xếp bằng sorted trong python thông qua key và lấy ra kết quả đã sắp xếp\n",
        "sort_keys = sorted(key_value)\n",
        "# In các khóa đã sắp xếp với định dạng \"1 2 3 4 5 6\"\n",
        "sorted_keys_str = ' '.join(sort_keys)\n",
        "# In kết quả\n",
        "print(sorted_keys_str)\n"
      ],
      "metadata": {
        "colab": {
          "base_uri": "https://localhost:8080/"
        },
        "id": "5dAmlnQ5PhfS",
        "outputId": "63067cbc-4c2e-453d-dd24-44c056f8517c"
      },
      "execution_count": 17,
      "outputs": [
        {
          "output_type": "stream",
          "name": "stdout",
          "text": [
            "[1] [2] [3] [4] [5] [6]\n"
          ]
        }
      ]
    },
    {
      "cell_type": "code",
      "source": [
        "'''Ex3: Sắp xếp từ điển theo khóa và giá trị trong Python. Ở đây đang sử dụng một trình vòng lặp theo giá trị của Từ điển để sắp xếp các khóa.'''\n",
        "# Khởi tạo từ điển ban đầu (original) với các cặp key-value.\n",
        "original = {\n",
        "    '[2]': '56',\n",
        "    '[1]': '2',\n",
        "    '[4]': '12',\n",
        "    '[5]': '24',\n",
        "    '[6]': '18',\n",
        "    '[3]': '323'\n",
        "}\n",
        "\n",
        "# B1: Sử dụng hàm sorted() để sắp xếp các cặp key-value của từ điển original. Đồng thời, chúng ta sẽ sử dụng một hàm key để chỉ định cách sắp xếp.\n",
        "# Trong hàm key thực hiện thêm 2 bước nữa\n",
        "# b1.2: Chuyển khóa (key) và giá trị (value) từ chuỗi thành số nguyên bằng cách sử dụng int() để loại bỏ dấu ngoặc vuông [] từ khóa và giá trị.\n",
        "# b1.2: Trả về một tuple (KEY, Value) trong hàm key. Sau đó, sắp xếp danh sách các cặp key-value dựa trên cả khóa và giá trị.\n",
        "sorted_items = sorted(original.items(), key=lambda item: (int(item[0].strip('[]')), int(item[1]))) # Các cặp key-value đã sắp xếp được lưu vào sorted_items.\n",
        "\n",
        "# Sử dụng một vòng lặp for để lặp qua các cặp key-value đã sắp xếp trong sorted_items\n",
        "for key, value in sorted_items:\n",
        "  # In mỗi cặp key-value theo định dạng (key, value) bằng cách sử dụng f-string, loại bỏ các dấu ngoặc bằng cách sử dụng strip(), và end = '' để in thêm ký tự khoảng trắng\n",
        "    print(f'({int(key.strip(\"[]\"))}, {int(value)})', end=' ')\n"
      ],
      "metadata": {
        "colab": {
          "base_uri": "https://localhost:8080/"
        },
        "id": "mf906utKStRn",
        "outputId": "60c74168-79a4-46a0-d386-fc126f8e4c61"
      },
      "execution_count": 21,
      "outputs": [
        {
          "output_type": "stream",
          "name": "stdout",
          "text": [
            "(1, 2) (2, 56) (3, 323) (4, 12) (5, 24) (6, 18) "
          ]
        }
      ]
    },
    {
      "cell_type": "markdown",
      "source": [
        "✌"
      ],
      "metadata": {
        "id": "92kprw3RXP5l"
      }
    }
  ]
}