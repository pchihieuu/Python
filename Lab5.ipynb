{
  "nbformat": 4,
  "nbformat_minor": 0,
  "metadata": {
    "colab": {
      "provenance": []
    },
    "kernelspec": {
      "name": "python3",
      "display_name": "Python 3"
    },
    "language_info": {
      "name": "python"
    }
  },
  "cells": [
    {
      "cell_type": "code",
      "execution_count": 4,
      "metadata": {
        "colab": {
          "base_uri": "https://localhost:8080/"
        },
        "id": "OAq3xdMhMt73",
        "outputId": "150174fd-40d7-48c7-cde5-ab6a923cfbc9"
      },
      "outputs": [
        {
          "output_type": "stream",
          "name": "stdout",
          "text": [
            "Nhap n: 3\n",
            "Ket qua: 1.8333333333333333\n"
          ]
        }
      ],
      "source": [
        "'''Viết hàm tính S1(n) = 1/1 + ½ + 1/3 + ..+ 1/n, và gọi sử dụng hàm: nhập số n và xuất kết quả.'''\n",
        "def sumofNumber(n):\n",
        "  sum = 0\n",
        "  for i in range(1, n + 1):\n",
        "    sum += 1/i\n",
        "  return sum\n",
        "if __name__==\"__main__\":\n",
        "  n = int(input(\"Nhap n: \"))\n",
        "  print(\"Ket qua:\", sumofNumber(n))\n"
      ]
    },
    {
      "cell_type": "code",
      "source": [
        "'''Viết hàm tính tổng các giá trị số chẵn của 1 list, và gọi sử dụng hàm: tạo 1 list chứa số, xuất ra tổng các số chẵn của lis'''\n",
        "def sumofList(n):\n",
        "  sum_even_list = sum(x for x in n if x % 2 == 0)\n",
        "  return sum_even_list\n",
        "if __name__==\"__main__\":\n",
        "  list_data = [1, 3, 5, 7, 9, 11, 12, 23]\n",
        "  print(\"Ket qua:\", sumofList(list_data))\n",
        ""
      ],
      "metadata": {
        "colab": {
          "base_uri": "https://localhost:8080/"
        },
        "id": "zBz-zYDoNeDR",
        "outputId": "4258cac7-df92-47ef-c101-becb794354d3"
      },
      "execution_count": 15,
      "outputs": [
        {
          "output_type": "stream",
          "name": "stdout",
          "text": [
            "Ket qua: 12\n"
          ]
        }
      ]
    },
    {
      "cell_type": "code",
      "source": [
        "''' Viết hàm kiểm tra 1 số có phải là số hoàn hảo hay không? (số hoàn hảo là số có tổng các ước số của nó = chính nó): nhập số x, cho biết x có phải là số hoàn hảo hay không'''\n",
        "def perfectNumber(n):\n",
        "  sum = 0\n",
        "  for i in range(1, n // 2 + 1):\n",
        "    if n % i == 0:\n",
        "      sum += i\n",
        "  if sum == n:\n",
        "    return True\n",
        "  return False\n",
        "if __name__ ==\"__main__\":\n",
        "  n = int(input(\"Nhap n:\"))\n",
        "  if perfectNumber(n):\n",
        "    print(f'{n} la so hoan hao')\n",
        "  else:\n",
        "    print(f'{n} khong la so hoan hao')"
      ],
      "metadata": {
        "colab": {
          "base_uri": "https://localhost:8080/"
        },
        "id": "JSgsDyMqO63i",
        "outputId": "56299e60-3032-4292-ec02-044d852659b3"
      },
      "execution_count": 20,
      "outputs": [
        {
          "output_type": "stream",
          "name": "stdout",
          "text": [
            "Nhap n:28\n",
            "28 la so hoan hao\n"
          ]
        }
      ]
    }
  ]
}