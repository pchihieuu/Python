{
  "nbformat": 4,
  "nbformat_minor": 0,
  "metadata": {
    "colab": {
      "provenance": []
    },
    "kernelspec": {
      "name": "python3",
      "display_name": "Python 3"
    },
    "language_info": {
      "name": "python"
    }
  },
  "cells": [
    {
      "cell_type": "code",
      "execution_count": null,
      "metadata": {
        "id": "em2WMTfuqNyZ"
      },
      "outputs": [],
      "source": [
        "# @athor: Hieu Phan Chi(@aka: pchihieu)\n",
        "# Single Responsibility Principle (SRP)\n",
        "# Định nghĩa class Person\n",
        "class Person:\n",
        "  def __init__(seft, name, age):\n",
        "    seft.name = name\n",
        "    seft.age = age\n",
        "# Định nghĩa class để tin ra thông tin Person\n",
        "class personPrinter:\n",
        "  def print_person(seft, person):\n",
        "    print(f\"Person{{name: {person.name}, age: {person.age}}}\")\n",
        "# In kết quả ra màn hình\n",
        "person = Person('Phan Công Vinh', 61)\n",
        "printer = personPrinter()\n",
        "printer.print_person(person)"
      ]
    },
    {
      "cell_type": "code",
      "source": [
        "# @athor: Hieu Phan Chi (@aka: pchihieu)\n",
        "# Using SOLID\n",
        "import random\n",
        "# Định nghĩa hàm phát sinh số ngấu nhiêu từ start đến end\n",
        "def generate_random_number(start, end):\n",
        "    if start > end:\n",
        "        raise ValueError(\"Start value must be less than or equal to the end value\")\n",
        "    return random.randint(start, end)\n",
        "# Định nghĩa hàm in số phát sinh ngấu nhiên từ start đến end\n",
        "def print_generated_value(start, end):\n",
        "  # Sử dụng xử lý ngoại lệ (exceptions)\n",
        "    try:\n",
        "        val = generate_random_number(start, end)\n",
        "        print(f\"Số ngẫu nhiên từ {start} đến {end}: {val}\")\n",
        "    except ValueError as e:\n",
        "        print(f\"L: {e}\")\n",
        "# Kiểm tra xem câu lệnh có chạy trong chương trình chính hay không?\n",
        "if __name__==\"__main__\":\n",
        "  # Nhập giá trị các biến\n",
        "  start = int(input(\"Enter starting value: \"))\n",
        "  end = int(input(\"Enter ending value: \"))\n",
        "  # In kết quả ra màn hình\n",
        "  print_generated_value(start, end)\n"
      ],
      "metadata": {
        "id": "G5b8X9XWreH6"
      },
      "execution_count": null,
      "outputs": []
    },
    {
      "cell_type": "code",
      "source": [
        "# author: Hieu Phan Chi\n",
        "# Định nghĩa hàm in đội bóng\n",
        "def print_teams(teams):\n",
        "    for team in teams:\n",
        "        print(team)\n",
        "    else:\n",
        "        print(\"Kết thúc.\")\n",
        "# Gán giá trị\n",
        "euro = [\"Đức\", \"Pháp\", \"Anh\", \"Hà Lan\", \"Thụy Sỹ\", \"Bỉ\"]\n",
        "# In kết quả ra màn hình\n",
        "print_teams(euro)\n"
      ],
      "metadata": {
        "id": "dgcvYnw02H0t"
      },
      "execution_count": null,
      "outputs": []
    }
  ]
}