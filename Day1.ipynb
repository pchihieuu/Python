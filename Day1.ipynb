{
  "nbformat": 4,
  "nbformat_minor": 0,
  "metadata": {
    "colab": {
      "provenance": []
    },
    "kernelspec": {
      "name": "python3",
      "display_name": "Python 3"
    },
    "language_info": {
      "name": "python"
    }
  },
  "cells": [
    {
      "cell_type": "code",
      "execution_count": null,
      "metadata": {
        "id": "z-MmQYETlgHN"
      },
      "outputs": [],
      "source": [
        "for i in range(100):\n",
        "  print(i, sep = ',')\n",
        "\n"
      ]
    },
    {
      "cell_type": "code",
      "source": [
        "def Add(a, b):\n",
        "  ''' a -> int\n",
        "      b -> int\n",
        "      hàm dùng để tính tổng hai số a và b\n",
        "  '''\n",
        "  return a + b\n",
        "\n"
      ],
      "metadata": {
        "id": "HUuCJoh9GcT1"
      },
      "execution_count": null,
      "outputs": []
    },
    {
      "cell_type": "code",
      "source": [
        "c = Add(3, 4)"
      ],
      "metadata": {
        "id": "biZ0dUhsGwMr"
      },
      "execution_count": null,
      "outputs": []
    },
    {
      "cell_type": "code",
      "source": [
        "c"
      ],
      "metadata": {
        "id": "6nKz5h0VHc72",
        "outputId": "0e3ffbf1-d273-41b5-d577-30cc4785a618",
        "colab": {
          "base_uri": "https://localhost:8080/"
        }
      },
      "execution_count": null,
      "outputs": [
        {
          "output_type": "execute_result",
          "data": {
            "text/plain": [
              "7"
            ]
          },
          "metadata": {},
          "execution_count": 12
        }
      ]
    },
    {
      "cell_type": "code",
      "source": [
        "a = 33\n",
        "b = 200\n",
        "if b > a:\n",
        "  print(\"b is greater than a\")"
      ],
      "metadata": {
        "colab": {
          "base_uri": "https://localhost:8080/"
        },
        "id": "bFDxHhNcP0bn",
        "outputId": "bbe81364-2a65-486a-9a3a-dfa2d4ce5afd"
      },
      "execution_count": null,
      "outputs": [
        {
          "output_type": "stream",
          "name": "stdout",
          "text": [
            "b is greater than a\n"
          ]
        }
      ]
    },
    {
      "cell_type": "code",
      "source": [
        "#Chương trình tính toán hai số nguyên\n",
        "def caculate_operation(a, b):\n",
        "  addittion = a + b\n",
        "  substraction = a -  b\n",
        "  multiplication = a * b\n",
        "  return addittion, substraction, multiplication\n",
        "\n",
        "# Kiểm tra xem chương trình đang thực thi trực tiếp từ dòng lệnh hay không?\n",
        "if __name__ == \"__main__\":\n",
        "  a = (int)(input(\"Nhập số nguyên a:\"))\n",
        "  b = (int)(input(\"Nhập số nguyên b:\"))\n",
        "  result_addittion, result_substraction, result_multiplication = caculate_operation(a, b)\n",
        "\n",
        "  print(f\"{a} + {b} = {result_addittion}\")\n",
        "  print(f\"{a} - {b} = {result_substraction}\")\n",
        "  print(f\"{a} * {b} = {result_multiplication}\")\n",
        "\n"
      ],
      "metadata": {
        "colab": {
          "base_uri": "https://localhost:8080/"
        },
        "id": "df_ZkUSFQSDj",
        "outputId": "8105e123-5ebf-443c-fef1-9156f00e78f8"
      },
      "execution_count": null,
      "outputs": [
        {
          "output_type": "stream",
          "name": "stdout",
          "text": [
            "Nhập số nguyên a:3\n",
            "Nhập số nguyên b:6\n",
            "3 + 6 = 9\n",
            "3 - 6 = -3\n",
            "3 * 6 = 18\n"
          ]
        }
      ]
    },
    {
      "cell_type": "code",
      "source": [
        "# Chương trình nhập 2 số nguyên a, b, xác định số lớn nhất và in kết quả.\n",
        "def number_max(a, b):\n",
        "  if (a > b):\n",
        "    max = a\n",
        "  else:\n",
        "    max = b\n",
        "  return max\n",
        "# Kiểm tra xem chương trình đang thực thi trực tiếp từ dòng lệnh hay không?\n",
        "if __name__==\"__main__\":\n",
        "  a = (int)(input(\"Nhập số nguyên a:\"))\n",
        "  b = (int)(input(\"Nhập số nguyên b:\"))\n",
        "  result_max = number_max(a, b)\n",
        "\n",
        "  print(f\"Số lớn nhất trong hai số {a} và {b} là: \",result_max)\n"
      ],
      "metadata": {
        "colab": {
          "base_uri": "https://localhost:8080/"
        },
        "id": "JmRuz-LDSZbw",
        "outputId": "876aa60c-200a-4e31-dd80-8acf89ce6bd5"
      },
      "execution_count": null,
      "outputs": [
        {
          "output_type": "stream",
          "name": "stdout",
          "text": [
            "Nhập số nguyên a:2\n",
            "Nhập số nguyên b:6\n",
            "Số lớn nhất trong hai số 2 và 6 là:  6\n"
          ]
        }
      ]
    },
    {
      "cell_type": "code",
      "source": [
        "'''Viết chương trình nhập số km đã đi xe taxi, tính tiền theo bảng giá sau:\n",
        "\tNếu sokm >100 thì giá 10đ / 1 Km và có kẹo khuyến mãi\n",
        "\tCòn nếu sokm <100 và >=50  thì giá 12đ / 1 Km và có kẹo khuyến mãi\n",
        "\tCòn lại giá 15đ / 1 Km và không có kẹo khuyến mãi\n",
        "'''\n",
        "\n",
        "import math\n",
        "# Thực hiện tính toán số tiền và số kẹo\n",
        "def tinh_tien_va_keo(sokm):\n",
        "    if sokm >= 100:\n",
        "        sotien = 10 * sokm\n",
        "        keo = math.ceil(math.sqrt(sokm)) + 1\n",
        "    elif 50 <= sokm < 100:\n",
        "        sotien = 12 * sokm\n",
        "        keo = math.ceil(math.sqrt(sokm))\n",
        "    else:\n",
        "        sotien = 15 * sokm\n",
        "        keo = 0\n",
        "\n",
        "    return sotien, keo\n",
        "# Kiểm tra xem chương trình đang thực thi trực tiếp từ dòng lệnh hay không?\n",
        "if __name__ == \"__main__\":\n",
        "    sokm = float(input(\"Nhập số Km đã đi: \"))\n",
        "\n",
        "    sotien, keo = tinh_tien_va_keo(sokm)\n",
        "\n",
        "    print(f\"Số tiền cần trả cho {sokm} km là: {sotien} đồng.\")\n",
        "    if keo > 0:\n",
        "        print(f\"Bạn được tặng {keo} viên kẹo.\")\n"
      ],
      "metadata": {
        "colab": {
          "base_uri": "https://localhost:8080/"
        },
        "id": "RMbGt69HUgt4",
        "outputId": "f2c92f40-395f-41f4-91fd-5b9241f6b2b4"
      },
      "execution_count": null,
      "outputs": [
        {
          "output_type": "stream",
          "name": "stdout",
          "text": [
            "Nhập số Km đã đi: 200.34\n",
            "Số tiền cần trả cho 200.34 km là: 2003.4 đồng.\n",
            "Bạn được tặng 16 viên kẹo.\n"
          ]
        }
      ]
    },
    {
      "cell_type": "code",
      "source": [
        "''' Viết chương trình nhập số km đã đi xe taxi, tính tiền theo bảng giá sau:\n",
        "\tNếu sokm >100 thì giá 10đ / 1 Km và có kẹo khuyến mãi\n",
        "\tCòn nếu sokm <100 và >=50  thì giá 12đ / 1 Km và có kẹo khuyến mãi\n",
        "\tCòn lại giá 15đ / 1 Km và không có kẹo khuyến mãi\n",
        "\n",
        "'''\n",
        "# Chương trình đơn giản\n",
        "import math\n",
        "sokm=float(input(\"Nhập số Km đã đi: \"))\n",
        "if sokm>=100:\n",
        "    sotien = 10 * sokm\n",
        "    keo = math.ceil(math.sqrt(sokm)) + 1\n",
        "elif sokm<100 and sokm>=50:\n",
        "    sotien = 12 * sokm\n",
        "    keo = math.ceil(math.sqrt(sokm))\n",
        "else:\n",
        "    sotien = 15 * sokm\n",
        "    keo = 0\n",
        "print(\"Số tiền phải trả: \", sotien)\n",
        "print(\"Số kẹo khuyến mãi: \", keo)"
      ],
      "metadata": {
        "colab": {
          "base_uri": "https://localhost:8080/"
        },
        "id": "tG1xNxD5Yx5Q",
        "outputId": "084b44be-ee0d-44e0-c847-0cf3b775548a"
      },
      "execution_count": null,
      "outputs": [
        {
          "output_type": "stream",
          "name": "stdout",
          "text": [
            "Nhập số Km đã đi: 200.34\n",
            "Số tiền phải trả:  2003.4\n",
            "Số kẹo khuyến mãi:  16\n"
          ]
        }
      ]
    },
    {
      "cell_type": "code",
      "source": [
        "#Viết chương trình tính diện tích và chu vi hình chữ nhật\n",
        "\n",
        "#Kiểm tra thông tin hai cạnh có phải là hình chữ nhật hay không?\n",
        "def check_shape(length, width):\n",
        "  if(length > 0 and width > 0 and a != b):\n",
        "    return True\n",
        "  else:\n",
        "    return False\n",
        "#Tính toán chu vi và diện tích hình chữ nhật\n",
        "def caculate_rectangle(length, width):\n",
        "  perimeter_rectangle = (length + width) * 2\n",
        "  acreage_rectangle = length * width\n",
        "  return perimeter_rectangle, acreage_rectangle\n",
        "# Kiểm tra xem chương trình đang thực thi trực tiếp từ dòng lệnh hay không?\n",
        "if __name__ == \"__main__\":\n",
        "  # Nhập giá trị chiều dài và chiều rộng\n",
        "  length = int(input(\"Nhập chiều dài:\"))\n",
        "  width = int(input(\"Nhập chiều rộng:\"))\n",
        "  result_perimeter, result_acreage = caculate_rectangle(length, width)\n",
        "  # Kiểm tra điều kiện hình học và in ra thông báo\n",
        "  if check_shape(length, width):\n",
        "    print(\"Đây là hình chữ nhật\")\n",
        "    print(f\"Chu vi hình chữ nhật:\", result_perimeter)\n",
        "    print(f\"Diện tích hình chữ nhật:\", result_acreage)\n",
        "  else:\n",
        "    print(\"Đây không là hình chữ nhật\")\n"
      ],
      "metadata": {
        "colab": {
          "base_uri": "https://localhost:8080/"
        },
        "id": "Zy_den6nZ3Aq",
        "outputId": "7890d8b7-5699-455b-cdf7-fcabb49dade2"
      },
      "execution_count": null,
      "outputs": [
        {
          "output_type": "stream",
          "name": "stdout",
          "text": [
            "Nhập chiều dài:-6\n",
            "Nhập chiều rộng:-1\n",
            "Đây không là hình chữ nhật\n"
          ]
        }
      ]
    },
    {
      "cell_type": "code",
      "source": [
        "'''Viết chương trình nhập 3 cạnh của 1 tam giác, tính diện tích hình tam giác theo công thức sau:'''\n",
        "\n",
        "\n",
        "def is_triangle(a, b, c):\n",
        "  # Kiểm tra điều kiện tổng của hai cạnh bất kỳ lớn hơn cạnh còn lại\n",
        "  return a + b > c and a + c > b and b + c > a\n",
        "  # Thực hiện tính diện tích hình tam giác\n",
        "def acreage_triangle(a, b, c):\n",
        "  # Kiểm tra điều kiện hình học?\n",
        "  if is_triangle(a, b, c):\n",
        "    p = (a + b + c) /2\n",
        "    acreage = math.sqrt(p * (p - a) * (p - b) * (p - c))\n",
        "    return acreage\n",
        "  else:\n",
        "    return None\n",
        "  # Kiểm tra xem chương trình đang thực thi trực tiếp từ dòng lệnh hay không?\n",
        "if __name__ == \"__main__\":\n",
        "  # Nhập thông tin của 3 cạnh\n",
        "  a = int(input(\"Nhập cạnh a:\"))\n",
        "  b = int(input(\"Nhập cạnh b:\"))\n",
        "  c = int(input(\"Nhập cạnh c:\"))\n",
        "  result_triangle = acreage_triangle(a, b, c)\n",
        "\n",
        "  print(\"Diện tích hình tam giác bằng:\", result_triangle)"
      ],
      "metadata": {
        "colab": {
          "base_uri": "https://localhost:8080/"
        },
        "id": "XkaarSFMfJLX",
        "outputId": "20d63a72-d90f-4d32-9738-69ef6faa8187"
      },
      "execution_count": null,
      "outputs": [
        {
          "output_type": "stream",
          "name": "stdout",
          "text": [
            "Nhập cạnh a:1\n",
            "Nhập cạnh b:0\n",
            "Nhập cạnh c:1\n",
            "Diện tích hình tam giác bằng: None\n"
          ]
        }
      ]
    },
    {
      "cell_type": "code",
      "source": [
        "'''\n",
        "Viết chương trình 2 số nguyên a, b, tính (a+b), (a-b), (b-a), (a*b), (a%b), (a/b)\n",
        "'''\n",
        "# Định nghĩa hàm tính tổng\n",
        "def add(a, b):\n",
        "    return a + b\n",
        "# Định nghĩa hàm tính hiệu a và b\n",
        "def subtract(a,b):\n",
        "    return a - b\n",
        "# Định nghĩa hàm tính hiệu b và a\n",
        "def subtract_reverse(a, b):\n",
        "    return b - a\n",
        "# Định nghĩa hàm tính tích\n",
        "def multiply(a, b):\n",
        "    return a * b\n",
        "# Định nghĩa hàm tính số dư\n",
        "def modulus(a, b):\n",
        "    return a % b\n",
        "# Định nghĩa hàm tính thương\n",
        "def divide(a, b):\n",
        "    if b == 0:\n",
        "        print(\"Không thể thực hiện phép chia\")\n",
        "    return a / b\n",
        " # Kiểm tra xem chương trình đang thực thi trực tiếp từ dòng lệnh hay không?\n",
        "if __name__==\"__main__\":\n",
        "    # Nhập hai số a và b\n",
        "    a = int(input(\"Nhập số a: \"))\n",
        "    b = int(input(\"Nhập số b: \"))\n",
        "    # Thực hiện tính các phép toán\n",
        "    sum_result = add(a, b)\n",
        "    difference_ab = subtract(a, b)\n",
        "    difference_ba = subtract_reverse(a, b)\n",
        "    product_result = multiply(a, b)\n",
        "    modulus_result = modulus(a, b)\n",
        "    divide_result = divide(a, b)\n",
        "    # In kết quả ra màn hình\n",
        "    print(f\"Tổng hai số {a} và {b} là: \", sum_result)\n",
        "    print(f\"Hiệu hai số {a} và {b} là: \", difference_ab)\n",
        "    print(f\"Hiệu hai số {b} và {a} là: \", difference_ba)\n",
        "    print(f\"Tích hai số {a} và {b} là: \", product_result)\n",
        "    print(f\"Chia dư hai số {a} và {b} là: \", modulus_result)\n",
        "    print(f\"Thương hai số {a} và {b} là: \", divide_result)\n",
        "\n",
        "\n"
      ],
      "metadata": {
        "id": "0eYxb6W_FY7M"
      },
      "execution_count": null,
      "outputs": []
    },
    {
      "cell_type": "code",
      "source": [
        "'''\n",
        "Viết chương trình nhập 3 số nguyên a, b, c, xuất ra số nhỏ nhất trong 3 số\n",
        "'''\n",
        "# Định nghĩa hàm tìm min\n",
        "def find_min(a, b, c):\n",
        "  return min(a, b, c)\n",
        "#\n",
        "if __name__==\"__main__\":\n",
        "  # Nhập thông tin 33 số a, b, c\n",
        "  a = int(input(\"Nhập số nguyên a: \"))\n",
        "  b = int(input(\"Nhập số nguyên b: \"))\n",
        "  c = int(input(\"Nhập số nguyên c: \"))\n",
        "  # Thực hiện các phép tính\n",
        "  min_result = find_min(a, b, c)\n",
        "  # In kết quả ra màn hình\n",
        "  print(f\"Số nhỏ nhất trong 3 số {a}, {b} và {c} là:\", min_result)\n"
      ],
      "metadata": {
        "colab": {
          "base_uri": "https://localhost:8080/"
        },
        "id": "0RrxWNd4Fh-a",
        "outputId": "392bd7ed-9f27-4bd7-e68d-0a4966786996"
      },
      "execution_count": null,
      "outputs": [
        {
          "output_type": "stream",
          "name": "stdout",
          "text": [
            "Nhập số nguyên a: 12\n",
            "Nhập số nguyên b: 8\n",
            "Nhập số nguyên c: 2\n",
            "Số nhỏ nhất trong 3 số 12, 8 và 2 là: 2\n"
          ]
        }
      ]
    },
    {
      "cell_type": "code",
      "source": [
        "'''\n",
        "Viết chương trình nhập 4 số nguyên a, b, c, d, xuất ra số nhỏ nhất trong 4 số\n",
        "'''\n",
        "# Định nghĩa hàm tìm số nhỏ nhất\n",
        "def find_min1(a, b, c, d):\n",
        "  return min(a, b, c, d)\n",
        "# Kiểm tra xem chương trình đang thực thi trực tiếp từ dòng lệnh hay không?\n",
        "if __name__==\"__main__\":\n",
        "  # Nhập thông tin 4 số nguyên\n",
        "  a = int(input(\"Nhập số nguyên a: \"))\n",
        "  b = int(input(\"Nhập số nguyên b: \"))\n",
        "  c = int(input(\"Nhập số nguyên c: \"))\n",
        "  d = int(input(\"Nhập số nguyên d: \"))\n",
        "  # Thực hiện phép tính\n",
        "  min_result1 = find_min1(a, b, c, d)\n",
        "\n",
        "  # In kết quả ra ngoài màn hình\n",
        "  print(f\"Số nhỏ nhất trong 4 số {a}, {b}, {c} và {d} là:\", min_result1)\n"
      ],
      "metadata": {
        "colab": {
          "base_uri": "https://localhost:8080/"
        },
        "id": "rVvKGhORHPJb",
        "outputId": "10fb4801-1910-43fb-91b1-dfcb61a1d4f9"
      },
      "execution_count": null,
      "outputs": [
        {
          "output_type": "stream",
          "name": "stdout",
          "text": [
            "Nhập số nguyên a: 2\n",
            "Nhập số nguyên b: 4\n",
            "Nhập số nguyên c: 1\n",
            "Nhập số nguyên d: 9\n",
            "Số nhỏ nhất trong 4 số 2, 4, 1 và 9 là: 1\n"
          ]
        }
      ]
    },
    {
      "cell_type": "code",
      "source": [
        "'''\n",
        "Viết chương trình nhập 4 số thực a, b, c, d, xuất ra số lớn nhất và số nhỏ nhất trong 4 số\n",
        "'''\n",
        "# Định nghĩa hàm tìm số lớn nhất\n",
        "def find_max(a, b, c, d):\n",
        "  return max(a, b, c, d)\n",
        "# Định nghĩa hàm tím số bé nhất\n",
        "def find_min4(a, b, c, d):\n",
        "  return min(a, b, c, d)\n",
        "# Kiểm tra xem chương trình đang thực thi trực tiếp từ dòng lệnh hay không?\n",
        "if __name__==\"__main__\":\n",
        "  # Nhập thông tin 4 số nguyên\n",
        "  a = int(input(\"Nhập số nguyên a: \"))\n",
        "  b = int(input(\"Nhập số nguyên b: \"))\n",
        "  c = int(input(\"Nhập số nguyên c: \"))\n",
        "  d = int(input(\"Nhập số nguyên d: \"))\n",
        "  # Thực hiện tìm số max và min\n",
        "  result_max = find_max(a, b, c, d)\n",
        "  result_min = find_min4(a, b, c, d)\n",
        "  # In kết quả ra màn hình\n",
        "  print(f\"Số lớn nhất trong 4 số {a}, {b}, {c} và {d} là:\", result_max)\n",
        "  print(f\"Số nhỏ nhất trong 4 số {a}, {b}, {c} và {d} là:\", result_min)\n"
      ],
      "metadata": {
        "colab": {
          "base_uri": "https://localhost:8080/"
        },
        "id": "nqhSrZuRIhWt",
        "outputId": "db0089ad-9a73-41f4-f306-005200570bd5"
      },
      "execution_count": null,
      "outputs": [
        {
          "output_type": "stream",
          "name": "stdout",
          "text": [
            "Nhập số nguyên a: 3\n",
            "Nhập số nguyên b: 6\n",
            "Nhập số nguyên c: 9\n",
            "Nhập số nguyên d: 2\n",
            "Số lớn nhất trong 4 số 3, 6, 9 và 2 là: 9\n",
            "Số nhỏ nhất trong 4 số 3, 6, 9 và 2 là: 2\n"
          ]
        }
      ]
    },
    {
      "cell_type": "code",
      "source": [
        "'''\n",
        "Viết chương trình nhập vào điểm trung bình của 1 sinh viên thực hiện xếp loại và in kết quả.\n",
        "'''\n",
        "# Định nghĩa hàm kiểm tra xếp loại\n",
        "def student_classification(diemTB):\n",
        "  if(diemTB < 0 or diemTB > 10):\n",
        "    return \"Không có điểm này!\"\n",
        "  elif(diemTB < 5):\n",
        "    return \"Kém\"\n",
        "  elif(diemTB <= 7):\n",
        "    return \"Trung bình\"\n",
        "  elif(diemTB <= 8):\n",
        "    return \"Khá\"\n",
        "  elif(diemTB <= 9.5):\n",
        "    return \"Giỏi\"\n",
        "  else:\n",
        "    return \"Xuất sắc\"\n",
        "\n",
        "# Kiểm tra xem chương trình đang thực thi trực tiếp từ dòng lệnh hay không?\n",
        "if __name__==\"__main__\":\n",
        "  # Nhập thông tin điểmTB của sinh viên\n",
        "  diemTB = float(input(\"Nhập điểm trung bình của sinh viên:\"))\n",
        "  # Thực hiện xếp loại sinh viên\n",
        "  result_student = student_classification(diemTB)\n",
        "  # In kết quả ra màn hình\n",
        "  print(f\"Xếp loại sinh viên:\", result_student)\n"
      ],
      "metadata": {
        "colab": {
          "base_uri": "https://localhost:8080/"
        },
        "id": "r1bj35V_J-ML",
        "outputId": "eaaae650-9166-4eeb-f985-c9e89f745160"
      },
      "execution_count": null,
      "outputs": [
        {
          "output_type": "stream",
          "name": "stdout",
          "text": [
            "Nhập điểm trung bình của sinh viên:11\n",
            "Xếp loại sinh viên: Không có điểm này!\n"
          ]
        }
      ]
    },
    {
      "cell_type": "code",
      "source": [
        "# Định nghia hàm kiểm tra xem có phải năm nhuần hay không?\n",
        "def is_leap_year(year):\n",
        "  if(year % 4 == 0 and year % 100 != 0) or (year % 400 == 0):\n",
        "    return True\n",
        "  else:\n",
        "    return False\n",
        "# Kiểm tra xem chương trình đang thực thi trực tiếp từ dòng lệnh hay không?\n",
        "if __name__ == \"__main__\":\n",
        "  year = int(input(\"Nhập năm: \"))\n",
        "  # Gọi hàm is_leap_year để kiểm tra xem năm có phải là năm nhuần hay không\n",
        "  result = is_leap_year(year)\n",
        "  # In kết quả ra màn hình\n",
        "  if result:\n",
        "    print(f\"Năm {year} là năm Nhuần\")\n",
        "  else:\n",
        "    print(f\"Năm {year} không là năm Nhuần\")\n"
      ],
      "metadata": {
        "colab": {
          "base_uri": "https://localhost:8080/"
        },
        "id": "8VEEvcWXQUFy",
        "outputId": "c8365a22-96ec-480b-84b6-d201c89cc3cf"
      },
      "execution_count": null,
      "outputs": [
        {
          "output_type": "stream",
          "name": "stdout",
          "text": [
            "Nhập năm: 2020\n",
            "Năm 2020 là năm Nhuần\n"
          ]
        }
      ]
    },
    {
      "cell_type": "code",
      "source": [
        "'''\n",
        "Viết chương trình nhập năm (1992, 2008,…) và tháng  (1, 2, …12), cho biết tháng theo năm đó có bao nhiêu ngày?\n",
        "Hd: tháng 1,3,5,7,8,10,12 có 31 ngày; tháng 4,6,9,11 có 30 ngày; tháng 2 có 28 / 29 ngày tùy thuộc vào năm nhuần hay không.\n",
        "'''\n",
        "# Định nghĩa hàm để xác định số ngày trong một tháng cho một năm cụ thể\n",
        "def days_in_month(year, month):\n",
        "    if month in [1, 3, 5, 7, 8, 10, 12]:\n",
        "        return 31\n",
        "    elif month in [4, 6, 9, 11]:\n",
        "        return 30\n",
        "    elif month == 2:\n",
        "        if (year % 4 == 0 and year % 100 != 0) or (year % 400 == 0):\n",
        "            return 29  # Năm nhuần\n",
        "        else:\n",
        "            return 28  # Năm không nhuần\n",
        "    else:\n",
        "        return -1  # Tháng không hợp lệ\n",
        "if __name__==\"__main__\":\n",
        "# Nhập năm và tháng từ người dùng\n",
        "  year = int(input(\"Nhập năm: \"))\n",
        "  month = int(input(\"Nhập tháng (1-12): \"))\n",
        "\n",
        "# Gọi hàm days_in_month để xác định số ngày trong tháng cho năm cụ thể\n",
        "  result = days_in_month(year, month)\n",
        "\n",
        "# In kết quả\n",
        "if result == -1:\n",
        "    print(\"Tháng không hợp lệ.\")\n",
        "else:\n",
        "    print(f\"Tháng {month} năm {year} có {result} ngày.\")\n"
      ],
      "metadata": {
        "colab": {
          "base_uri": "https://localhost:8080/"
        },
        "id": "ZXZYJsiYSNZi",
        "outputId": "40249611-acac-418f-a157-d51f6bfbee24"
      },
      "execution_count": null,
      "outputs": [
        {
          "output_type": "stream",
          "name": "stdout",
          "text": [
            "Nhập năm: 2020\n",
            "Nhập tháng (1-12): 12\n",
            "Tháng 12 năm 2020 có 31 ngày.\n"
          ]
        }
      ]
    },
    {
      "cell_type": "code",
      "source": [
        "'''\n",
        "Viết chương trình giải phương trình bậc 1: \t \tAX + B = 0\n",
        "'''\n",
        "# @author: Hieu Phan Chi\n",
        "# Hàm giải phương trình bậc 1\n",
        "def giai_pt_bac_1(a, b):\n",
        "    if a == 0:\n",
        "        if b == 0:\n",
        "            return \"Phương trình có vô số nghiệm.\"\n",
        "        else:\n",
        "            return \"Phương trình vô nghiệm.\"\n",
        "    else:\n",
        "        x = -b / a\n",
        "        return f\"Nghiệm của phương trình là x = {x}\"\n",
        "if __name__==\"__main__\":\n",
        "# Nhập hệ số a và b từ người dùng\n",
        "  a = float(input(\"Nhập hệ số a: \"))\n",
        "  b = float(input(\"Nhập hệ số b: \"))\n",
        "\n",
        "# Gọi hàm giai_pt_bac_1 để giải phương trình\n",
        "  ket_qua = giai_pt_bac_1(a, b)\n",
        "\n",
        "# In kết quả\n",
        "print(f\"Kết quả của phương trình bậc nhất là:\", ket_qua)\n"
      ],
      "metadata": {
        "id": "0DDQcDk7Si6k"
      },
      "execution_count": null,
      "outputs": []
    },
    {
      "cell_type": "code",
      "source": [
        "'''\n",
        "Viết chương trình giải phương trình bậc 2:  \tAX2 + BX + C = 0\n",
        "'''\n",
        "import math\n",
        "\n",
        "# Hàm giải phương trình bậc hai\n",
        "def giai_pt_bac_2(A, B, C):\n",
        "    # Tính delta\n",
        "    delta = B**2 - 4 * A * C\n",
        "\n",
        "    if delta > 0:\n",
        "        x1 = (-B + math.sqrt(delta)) / (2 * A)\n",
        "        x2 = (-B - math.sqrt(delta)) / (2 * A)\n",
        "        return f\"Phương trình có hai nghiệm phân biệt: x1 = {x1} và x2 = {x2}\"\n",
        "    elif delta == 0:\n",
        "        x = -B / (2 * A)\n",
        "        return f\"Phương trình có nghiệm kép: x = {x}\"\n",
        "    else:\n",
        "        return \"Phương trình vô nghiệm\"\n",
        "if __name__==\"__main__\":\n",
        "# Nhập hệ số A, B và C từ người dùng\n",
        "  A = float(input(\"Nhập hệ số A: \"))\n",
        "  B = float(input(\"Nhập hệ số B: \"))\n",
        "  C = float(input(\"Nhập hệ số C: \"))\n",
        "\n",
        "# Gọi hàm giai_pt_bac_2 để giải phương trình\n",
        "  ket_qua = giai_pt_bac_2(A, B, C)\n",
        "\n",
        "# In kết quả\n",
        "  print(f\"Kết quả của phương trình bậc 2 là: \", ket_qua)\n"
      ],
      "metadata": {
        "colab": {
          "base_uri": "https://localhost:8080/"
        },
        "id": "jmLTVc7STqPN",
        "outputId": "272c3bf5-80ae-4f80-90c0-800fc83324ac"
      },
      "execution_count": null,
      "outputs": [
        {
          "output_type": "stream",
          "name": "stdout",
          "text": [
            "Nhập hệ số A: 1\n",
            "Nhập hệ số B: 3\n",
            "Nhập hệ số C: 6\n",
            "Kết quả của phương trình bậc 2 là:  Phương trình vô nghiệm\n"
          ]
        }
      ]
    }
  ]
}