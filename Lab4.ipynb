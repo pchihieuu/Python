{
  "nbformat": 4,
  "nbformat_minor": 0,
  "metadata": {
    "colab": {
      "provenance": []
    },
    "kernelspec": {
      "name": "python3",
      "display_name": "Python 3"
    },
    "language_info": {
      "name": "python"
    }
  },
  "cells": [
    {
      "cell_type": "code",
      "execution_count": 2,
      "metadata": {
        "colab": {
          "base_uri": "https://localhost:8080/"
        },
        "id": "f9vIGSjyHuVn",
        "outputId": "98aaba55-12e6-429d-d9d6-592d25996bab"
      },
      "outputs": [
        {
          "output_type": "stream",
          "name": "stdout",
          "text": [
            "Kết hợp các giá trị của hai danh sách đã nói vào một từ điển:  {'a': 1, 'b': 2, 'c': 3, 'd': 4, 'e': 5}\n"
          ]
        }
      ],
      "source": [
        "'''Bài tập 1. Viết chương trình Python để kết hợp hai danh sách vào một từ điển. Các phần tử của phần đầu tiên đóng vai trò là khóa và các phần tử của phần thứ hai đóng vai trò là giá trị. Mỗi mục trong danh sách đầu tiên phải là duy nhất và có thể băm được.\n",
        "Đầu ra mẫu:\n",
        "Danh sách gốc:\n",
        "['a', 'b', 'c', 'd', 'e', 'f']\n",
        "[1, 2, 3, 4, 5]\n",
        "Kết hợp các giá trị của hai danh sách đã nói vào một từ điển:\n",
        "{'a': 1, 'b': 2, 'c': 3, 'd': 4, 'e': 5}'''\n",
        "# Định nghĩa hàm kết hợp danh sách và một từ điển\n",
        "def combined_dict(keys, values):\n",
        "  #Sử dụng zip để kết hợp các phần từ\n",
        "  combine = dict(zip(keys, values))\n",
        "  # Trả về kết quả kết hợp của danh sách và từ điển\n",
        "  return combine\n",
        "# Kiểm tra xem các câu lệnh có chạy trong chương trình chính hay không?\n",
        "if __name__==\"__main__\":\n",
        "  # Khởi tạo khóa\n",
        "  keys = ['a', 'b', 'c', 'd', 'e', 'f']\n",
        "  # Khởi tạo giá trị\n",
        "  values = [1, 2, 3, 4, 5]\n",
        "  # In kết quả ra màn hình\n",
        "  print(\"Kết hợp các giá trị của hai danh sách đã nói vào một từ điển: \", combined_dict(keys, values))\n"
      ]
    },
    {
      "cell_type": "code",
      "source": [
        "'''Bài tập 2. Viết chương trình Python để chuyển đổi một từ điển thành một danh sách các bộ dữ liệu.\n",
        "Đầu ra mẫu:\n",
        "Từ điển gốc:\n",
        "{'Đỏ': 1, 'Xanh': 3, 'Trắng': 5, 'Đen': 2, 'Hồng': 4}\n",
        "Chuyển đổi từ điển đã nói thành danh sách các bộ dữ liệu:\n",
        "[('Đỏ', 1), ('Xanh', 3), ('Trắng', 5), ('Đen', 2), ('Hồng', 4)]'''\n",
        "def dict_to_list(input_dict):\n",
        "  # Sử dụng phương thức items() để lấy các cặp key-value từ dict\n",
        "   dict_items = input_dict.items()\n",
        "   #  Chuyển các cặp key-value thành danh sách các bộ dữ liệu(chuyển thành list)\n",
        "   list_of_tuple = list(dict_items)\n",
        "   # Trả về kết quả chứa keys và values riêng đã được tách ra\n",
        "   return list_of_tuple\n",
        "# Kiểm tra xem các câu lệnh có chạy trong chương trình chính hay không?\n",
        "if __name__==\"__main__\":\n",
        "  # Khởi tạo bộ dữ liệu để kiểm tra output\n",
        "  check_dict = {'Đỏ': 1, 'Xanh': 3, 'Trắng': 5, 'Đen': 2, 'Hồng': 4}\n",
        "  # In kết quả ra màn hình\n",
        "  print(\"Chuyển đổi từ điển đã nói thành danh sách các bộ dữ liệu::\",dict_to_list(check_dict))"
      ],
      "metadata": {
        "colab": {
          "base_uri": "https://localhost:8080/"
        },
        "id": "aM4qVeINJW3X",
        "outputId": "d9e4fe6b-671c-434f-e02a-499a0b238e9d"
      },
      "execution_count": 3,
      "outputs": [
        {
          "output_type": "stream",
          "name": "stdout",
          "text": [
            "Kết quả: [('Đỏ', 1), ('Xanh', 3), ('Trắng', 5), ('Đen', 2), ('Hồng', 4)]\n"
          ]
        }
      ]
    },
    {
      "cell_type": "code",
      "source": [
        "'''Bài tập 3. Viết chương trình Python để tạo một danh sách phẳng gồm tất cả các khóa trong một từ điển phẳng.\n",
        "Đầu ra mẫu:\n",
        "Các yếu tố từ điển gốc:\n",
        "{'Theodore': 19, 'Roxanne': 20, 'Mathew': 21, 'Betty': 20}\n",
        "Tạo một danh sách phẳng gồm tất cả các khóa của từ điển phẳng đã nói:\n",
        "['Theodore', 'Roxanne', 'Mathew', 'Betty']'''\n",
        "# Định nghĩa hàm tạo danh sách phắng gồm tất cả các khóa trong 1 từ điển phắng\n",
        "def list_to_values(input_list):\n",
        "  # Sử dụng phương thức keys() để lấy tất cả các khóa từ dict\n",
        "  original = input_list.keys()\n",
        "  # Chuyển khóa từ điển thành danh sách phẳng\n",
        "  list_of_dict_values = list(original)\n",
        "  # Trả về từ khóa thuộc 1 dict\n",
        "  return list_of_dict_values\n",
        "# Kiểm tra xem các câu lệnh có chạy trong chương trình chính hay không?\n",
        "if __name__==\"__main__\":\n",
        "   # Khởi tạo bộ dữ liệu để kiểm tra output\n",
        "  roll_data = {'Theodore': 19, 'Roxanne': 20, 'Mathew': 21, 'Betty': 20}\n",
        "  # In kết quả\n",
        "  print(\"Tạo một danh sách phẳng gồm tất cả các khóa của từ điển phẳng đã nói:\",list_to_values(roll_data))"
      ],
      "metadata": {
        "colab": {
          "base_uri": "https://localhost:8080/"
        },
        "id": "uPCQhzYiLBLc",
        "outputId": "22d22c18-c385-4221-92a1-734e41ba3f10"
      },
      "execution_count": 4,
      "outputs": [
        {
          "output_type": "stream",
          "name": "stdout",
          "text": [
            "Tạo một danh sách phẳng gồm tất cả các khóa của từ điển phẳng đã nói: ['Theodore', 'Roxanne', 'Mathew', 'Betty']\n"
          ]
        }
      ]
    }
  ]
}